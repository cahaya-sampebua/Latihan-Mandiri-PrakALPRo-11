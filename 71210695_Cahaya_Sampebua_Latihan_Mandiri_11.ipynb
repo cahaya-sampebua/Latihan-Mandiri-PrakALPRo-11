{
  "nbformat": 4,
  "nbformat_minor": 0,
  "metadata": {
    "colab": {
      "provenance": []
    },
    "kernelspec": {
      "name": "python3",
      "display_name": "Python 3"
    },
    "language_info": {
      "name": "python"
    }
  },
  "cells": [
    {
      "cell_type": "code",
      "execution_count": 1,
      "metadata": {
        "colab": {
          "base_uri": "https://localhost:8080/"
        },
        "id": "HzVRQcD7a6bj",
        "outputId": "10d87c96-e4d1-4262-c25e-248e4bb198de"
      },
      "outputs": [
        {
          "output_type": "stream",
          "name": "stdout",
          "text": [
            "True\n"
          ]
        }
      ],
      "source": [
        "#Soal 1\n",
        "\n",
        "def cek_tuple(data):\n",
        "    val = data[0]\n",
        "    for i in data:\n",
        "        if i == val:\n",
        "            status = True\n",
        "        else:\n",
        "            status = False\n",
        "            break\n",
        "\n",
        "    return status\n",
        "\n",
        "tA = (90,90,90,90)\n",
        "print(cek_tuple(tA))"
      ]
    },
    {
      "cell_type": "code",
      "source": [
        "#Soal 2\n",
        "\n",
        "def data_diri(data):\n",
        "    for i in data:\n",
        "        if i.isdigit():\n",
        "            nim = i\n",
        "        elif \",\" in i:\n",
        "            alamat = i\n",
        "        else:\n",
        "            nama = i.split(\" \")\n",
        "            nama_depan = nama[0]\n",
        "            nama.reverse()\n",
        "\n",
        "    print(f\"NIM: {tuple(nim)}\")\n",
        "    print(f\"NAMA DEPAN: {tuple(nama_depan[1:])}\")\n",
        "    print(f\"NAMA TERBALIK: {tuple(nama)}\")\n",
        "\n",
        "\n",
        "data = ('Matahari Bhakti Nendya', '22064091', 'Bantul, DI Yogyakarta')\n",
        "data_diri(data)"
      ],
      "metadata": {
        "colab": {
          "base_uri": "https://localhost:8080/"
        },
        "id": "LAEnIaJ4ckf_",
        "outputId": "5bc95ae2-bbd9-4c15-bdd3-55e74d09802a"
      },
      "execution_count": 2,
      "outputs": [
        {
          "output_type": "stream",
          "name": "stdout",
          "text": [
            "NIM: ('2', '2', '0', '6', '4', '0', '9', '1')\n",
            "NAMA DEPAN: ('a', 't', 'a', 'h', 'a', 'r', 'i')\n",
            "NAMA TERBALIK: ('Nendya', 'Bhakti', 'Matahari')\n"
          ]
        }
      ]
    },
    {
      "cell_type": "code",
      "source": [
        "# Soal 3\n",
        "\n",
        "import re\n",
        "\n",
        "nama_file = input(\"Enter a file name: \")\n",
        "file = open(nama_file)\n",
        "\n",
        "baca_file = file.read()\n",
        "\n",
        "re_file = re.findall(\"From .+  \\d+ (\\d+):.+\",baca_file)\n",
        "re_file.sort()\n",
        "\n",
        "dict_jam = dict()\n",
        "for i in re_file:\n",
        "    if i not in dict_jam:\n",
        "        dict_jam[i] = 1\n",
        "    else:\n",
        "        dict_jam[i] += 1\n",
        "\n",
        "for key in dict_jam:\n",
        "    print(f\"{key} {dict_jam[key]}\")\n",
        "\n",
        "file.close()"
      ],
      "metadata": {
        "colab": {
          "base_uri": "https://localhost:8080/"
        },
        "id": "EuJ94T6Vcv-a",
        "outputId": "33c850b9-06a5-445c-9105-b639588ca4b8"
      },
      "execution_count": 3,
      "outputs": [
        {
          "output_type": "stream",
          "name": "stdout",
          "text": [
            "Enter a file name: mbox-short.txt\n",
            "04 3\n",
            "06 1\n",
            "07 1\n",
            "09 2\n",
            "10 3\n",
            "11 6\n",
            "14 1\n",
            "15 2\n",
            "16 4\n",
            "17 2\n",
            "18 1\n",
            "19 1\n"
          ]
        }
      ]
    }
  ]
}